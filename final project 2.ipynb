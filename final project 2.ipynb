{
 "cells": [
  {
   "cell_type": "code",
   "execution_count": null,
   "metadata": {},
   "outputs": [],
   "source": [
    "import numpy as np\n",
    "import matplotlib.pyplot as plt\n",
    "\n",
    "n = 1200\n",
    "xn = np.zeros(shape = (1000,n)) \n",
    "r = np.zeros(shape = (n)) \n",
    "\n",
    "for i in range(len(r)):\n",
    "    r[i] = 2.8 + i * 0.01\n",
    "    \n",
    "xn[0] = 0.65\n",
    "for i in range(1,1000):\n",
    "    for j in range(n):\n",
    "        xn[i][j] = xn[i-1][j] * r[j] * (1-xn[i-1][j])\n",
    "        \n",
    "    n1 = 100 \n",
    "\n",
    "plt.figure(1)\n",
    "\n",
    "x = list(range(n))\n",
    "for i in range(1,n1): \n",
    "    y = xn[-i]\n",
    "    plt.scatter(x,y,s = 0.005)"
   ]
  },
  {
   "cell_type": "code",
   "execution_count": null,
   "metadata": {},
   "outputs": [],
   "source": [
    "def Lyapunov (x,r):\n",
    "    return np.log(abs(r - 2*r*x))\n",
    "\n",
    "\n",
    "n = 10000\n",
    "r = np.linspace(2.8,4.0,n)\n",
    "iteration = 1000\n",
    "lyp = np.zeros(n)\n",
    "x = 1e-5*np.ones(n)\n",
    "\n",
    "\n",
    "for i in range (iteration):\n",
    "    x = Log(x,r)\n",
    "    lyp += Lyapunov(x,r)\n",
    "fig, ax2 = plt.subplots(1,1, figsize=(8,9), sharex=True)\n",
    "\n",
    "ax2.axhline(0,color='k',lw=0.5,alpha=0.5)\n",
    "ax2.plot(r[lyp < 0], lyp[lyp < 0] / iteration, '.k', alpha=0.5, ms=.5)\n",
    "ax2.plot(r[lyp >= 0], lyp[lyp >= 0] / iteration, '.r', alpha=0.5, ms=0.5)\n",
    "ax2.set_xlim(2.5,4)\n",
    "ax2.set_ylim(-2,1)\n",
    "ax2.set_xlabel('r')\n",
    "ax2.set_ylabel('Lambda')\n",
    "ax2.set_title('Liapunov Exponents of the Logistic Map')\n",
    "\n",
    "\n"
   ]
  },
  {
   "cell_type": "code",
   "execution_count": null,
   "metadata": {},
   "outputs": [],
   "source": []
  },
  {
   "cell_type": "code",
   "execution_count": null,
   "metadata": {},
   "outputs": [],
   "source": []
  }
 ],
 "metadata": {
  "kernelspec": {
   "display_name": "Python 3",
   "language": "python",
   "name": "python3"
  },
  "language_info": {
   "codemirror_mode": {
    "name": "ipython",
    "version": 3
   },
   "file_extension": ".py",
   "mimetype": "text/x-python",
   "name": "python",
   "nbconvert_exporter": "python",
   "pygments_lexer": "ipython3",
   "version": "3.8.5"
  }
 },
 "nbformat": 4,
 "nbformat_minor": 4
}
